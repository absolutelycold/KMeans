{
 "cells": [
  {
   "attachments": {},
   "cell_type": "markdown",
   "metadata": {},
   "source": [
    "# K-Means\n",
    "\n",
    "K-Means Algorithm needs to initilize the K size (the number of clusters you want)\n",
    "\n",
    "Algorithm:\n",
    "1. initilize K means\n",
    "2. calculate the distance from each point to K means\n",
    "3. choose the shortest distance, and put the point into the corresponding cluster\n",
    "4. update K means\n",
    "\n",
    "Loop from 1 to 4 until K means are keep unchange \n",
    "\n",
    "The steps can be expressed as below picture:\n",
    "![](./k_means.png)"
   ]
  },
  {
   "cell_type": "markdown",
   "metadata": {},
   "source": [
    "# Implementation:\n",
    "\n",
    "firstly, assign two inputs k and data:"
   ]
  },
  {
   "cell_type": "code",
   "execution_count": 83,
   "metadata": {},
   "outputs": [],
   "source": [
    "k = 3 # set class number\n",
    "# The input data, the third attribute is the class number, initiliza with 0\n",
    "data = [[17, 12, 0], [5, 12, 0], [17, 14, 0], [5, 16, 0], [20, 15, 0], [3, 9, 0], [12, 3, 0], [12, 32, 0]]"
   ]
  },
  {
   "cell_type": "markdown",
   "metadata": {},
   "source": [
    "Core function is KMeansCalculate(k, data, means): it will update all inputs' cluster and update k means for each recursion."
   ]
  },
  {
   "cell_type": "code",
   "execution_count": 84,
   "metadata": {},
   "outputs": [],
   "source": [
    "import random\n",
    "import math\n",
    "\n",
    "def kMeans(k, data):\n",
    "    \n",
    "    # implement random generating later\n",
    "    \n",
    "    data_max_x = max([x[0]] for x in data)\n",
    "    data_min_x = min([x[0]] for x in data)\n",
    "    data_max_y = max([x[1]] for x in data)\n",
    "    data_min_y = min([x[1]] for x in data)\n",
    "    #print(data_max_x, data_min_x, data_max_y, data_min_y)\n",
    "    \n",
    "    means = [] # store all k means\n",
    "    # Random initilize k means\n",
    "    # the random value is pick from X_min to X_max and Y_min to Y_max\n",
    "    for i in range(0, k):\n",
    "        means.append([random.uniform(data_min_x[0], data_max_x[0]), random.uniform(data_min_y[0], data_max_y[0])])\n",
    "        \n",
    "    KMeansCalculate(k, data, means) # resursion\n",
    "    getResult(k, data, means)\n",
    "    \n",
    "\n",
    "def KMeansCalculate(k, data, means):\n",
    "    \n",
    "    distances = []\n",
    "    # update cluster:\n",
    "    for sample in data:\n",
    "        for mean in means:\n",
    "            distance = math.sqrt((sample[0] - mean[0])**2 + (sample[1] - mean[1])**2)\n",
    "            distances.append(distance)\n",
    "        \n",
    "        # update the cluster number\n",
    "        sample[2] = distances.index(min(distances))\n",
    "        distances.clear()\n",
    "    # print(data)\n",
    "        \n",
    "    \n",
    "    new_means = []\n",
    "    # update new mean\n",
    "    for i in range(0, k):\n",
    "        new_mean_x = 0\n",
    "        new_mean_y = 0\n",
    "        count = 0\n",
    "        for sample in data:\n",
    "            new_mean_x += (sample[2] == i) * sample[0]\n",
    "            new_mean_y += (sample[2] == i) * sample[1]\n",
    "            count += (sample[2] == i) * 1\n",
    "        new_mean_x /= (count if count > 0 else 1) # avoid division by 0\n",
    "        new_mean_y /= (count if count > 0 else 1) # avoid division by 0\n",
    "        new_means.append([new_mean_x, new_mean_y])\n",
    "    # print(new_means)\n",
    "    \n",
    "    # stop sign\n",
    "    current_mean_delta_x = sum([abs(new_means[i][0] - means[i][0]) for i in range(0, len(means))])\n",
    "    current_mean_delta_y = sum([abs(new_means[i][1] - means[i][1]) for i in range(0, len(means))])\n",
    "    current_mean_delta = current_mean_delta_x + current_mean_delta_y\n",
    "    \n",
    "    if current_mean_delta == 0:\n",
    "        return\n",
    "    else:\n",
    "        # update means\n",
    "        for i in range(0, len(means)):\n",
    "            means[i] = new_means[i]\n",
    "        KMeansCalculate(k, data, means)\n",
    "\n",
    "def getResult(k, data, means):\n",
    "    for i in range(0, k):\n",
    "        print(\"Cluster \", i, \": \", list([x[0],x[1]] for x in data if x[2] == i), \" with mean = \", means[i])"
   ]
  },
  {
   "cell_type": "code",
   "execution_count": 85,
   "metadata": {},
   "outputs": [
    {
     "name": "stdout",
     "output_type": "stream",
     "text": [
      "Cluster  0 :  [[5, 12], [5, 16], [3, 9], [12, 3]]  with mean =  [6.25, 10.0]\n",
      "Cluster  1 :  [[17, 12], [17, 14], [20, 15]]  with mean =  [18.0, 13.666666666666666]\n",
      "Cluster  2 :  [[12, 32]]  with mean =  [12.0, 32.0]\n"
     ]
    }
   ],
   "source": [
    "kMeans(k, data)"
   ]
  }
 ],
 "metadata": {
  "kernelspec": {
   "display_name": "Python 3",
   "language": "python",
   "name": "python3"
  },
  "language_info": {
   "codemirror_mode": {
    "name": "ipython",
    "version": 3
   },
   "file_extension": ".py",
   "mimetype": "text/x-python",
   "name": "python",
   "nbconvert_exporter": "python",
   "pygments_lexer": "ipython3",
   "version": "3.7.1"
  }
 },
 "nbformat": 4,
 "nbformat_minor": 2
}
